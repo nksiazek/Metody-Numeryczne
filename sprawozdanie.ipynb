

Biblioteki niezbędne do wykonania zadania:

(wykonanie tego bloku zapewnia do nich dostęp w kolejnych blokach)
In [1]:

import main

import numpy as np
import scipy

Przydatne w trakcie zajęć mogą okazać się metody macierzy z pakietu Numpy, takie jak na przykład długość wektora - len czy rozmiar macierzy - shape. Poniższy kod ilustruje ich podstawowe działanie. Dodatkowe metody obiektu $ndarray$ można znaleźć w oficjalnej dokumentacji.
In [2]:

vector = np.array([1, 2, 3])
print('Wektor:')
print(vector)
print('Długość:', len(vector))
print('Rozmiar:', vector.shape, '\n')

matrix = np.array([[1, 2, 3], [4, 5, 6], [7, 8, 9]])
print('Macierz:')
print(matrix)
print('Rozmiar:', matrix.shape)

Wektor:
[1 2 3]
Długość: 3
Rozmiar: (3,) 

Macierz:
[[1 2 3]
 [4 5 6]
 [7 8 9]]
Rozmiar: (3, 3)

Zadanie 1.
Zaimplementuj funkcję $cylinder\_area$ tak by zwracała pole powierzchni walca o promieniu podstawy $r$ i wysokości $h$. Stała $\pi$ jest zdefiniowana np. w bibliotece math. Jeżeli nie da się policzyć pola funkcja powinna zwracać wartość NaN. Sprawdź działanie zaimplementowanej funkcji dla dowolnych wartości w tym notatniku.

Zadanie 2.
Wygeneruj dowolne ciągi arytmetyczny o kroku różnym od jeden i niebędącym liczbą całkowitą, używając w tym celu funkcji arange oraz linspace. Wypisz go i przeanalizuj otrzymane rezultaty.

Zadanie 3.
Zaimplementuj funkcję $fib$ zwracającą wektor pierszych n elementów ciągu Fibonnaciego, jeżeli nie jest to możliwe funkcja powinna zwrócić wartość None.

Zadanie 4.
Napisz funkję $matrix\_calculations$ która jako argument przyjmuje dowolną wartość liczbową a i tworzy macierz:

$\mathbf{M} =\left[ \begin{matrix} a &amp; 1 &amp; -a\\ 0 &amp; 1 &amp; 1\\ -a &amp; a &amp; 1 \end{matrix}\right] $

Dla zadeklarowanej macierzy wyznacz numerycznie macierz odwrotną $\mathbf{Minv}$ (jeżeli nie istnieje taka macierz wartość wynosi NaN), macierz transponowaną $\mathbf{Mt}$ i wyznacznik macierzy $\mathbf{Mdet}$. Zwróć otrzymane wartości w postaci krotki postaci $(\mathbf{Minv}, \mathbf{Mt}, \mathbf{Mdet})$. Wypisz otrzymane wyniki.

Wskazówki: Do tworzenia obiektów mających własności macierzy w języku Python używa się klasy array z pakietu numpy, przykładowe użycie:
In [3]:

import numpy as np # słowo kluczowe "as" oznacza przesłania nazwę numpy i pozwala  
a = np.array([1, 2, 3])
b = np.array([[1], [2], [3]])
A = np.array([[1,2],[3,4]])
print("Wektor poziomy:\n {0}".format(a))
print("Wektor pionowy:\n {0}".format(b))
print("Macierz:\n {0}".format(A))

Wektor poziomy:
 [1 2 3]
Wektor pionowy:
 [[1]
 [2]
 [3]]
Macierz:
 [[1 2]
 [3 4]]

Do wykonania operacji odwracania macierzy należy użyć funkcji inv, do obliczenia wyznacznika macierzy stosuje się funkcję det z bliblioteki linalg. Natomiast transpozycję macierzy wykonujemy przez funkcję transpose której skrucona wersja to $M.T$ z pakietu numpy.

Ciekawostka: Python natywnie nie zawiera struktury danych typu tablica, na poziomie języka jest to rozwiązane poprzez strukturę listy list do której elementów odwołuje się poprzez indeksy jak w C/C++.

Zadanie 5.
Stwórz w noataniku macierz:
$\mathbf{M} =\left[ \begin{matrix} 3 &amp; 1 &amp; -2 &amp; 4\\ 0 &amp; 1 &amp; 1 &amp; 5\\ -2 &amp; 1 &amp; 1 &amp; 6\\ 4 &amp; 3 &amp; 0 &amp; 1\\ \end{matrix}\right] $
Wypisz przy pomocy funkcji print następujące elementy macierzy $\mathbf{M}$: $\mathbf{M}_{1,1},\mathbf{M}_{3,3},\mathbf{M}_{3,2}$. Zdefiniuj wektor $\mathbf{w1}$ którego elementy to trzecia kolumna macierzy $\mathbf{M}$ oraz wektor $\mathbf{w2}$ który składa się z drugiego wiersza tej macierzy.

Wskazówki: Tablice z pakietu numpy są indeksowane od zera a do każdego elementu można odwołać się poprzez jego indeks. Przykład użycie
In [4]:

# Inicjalizacja macierzy do przykładu
P = np.array([[1,3,2],[3,4, 6],[7,8,9]])
print("Macierz P=\n{0}".format(P))
# wyciągnięcie trzeciej kolumny 
wektor1 = P[:,2]
# wyciągnięcie trzeciego wiersza 
wektor2 = P[2,:]
print("Elementy trzeciej kolumny:\n {0}".format(wektor1))
print("Elementy trzeciego wiersza:\n {0}".format(wektor2))

Macierz P=
[[1 3 2]
 [3 4 6]
 [7 8 9]]
Elementy trzeciej kolumny:
 [2 6 9]
Elementy trzeciego wiersza:
 [7 8 9]

Dodatkowo twórcy biblioteki umożliwiają użytkownikowi na manipulację elementami tablicy poprzez operator ':', więcej szczegółów na temat jego użycia w artykule NumPy for Matlab users.

Zadanie 6.
Uzupełnij funkcję $custom\_matrix$, tak by parametry m, n określały wymiary macierzy wynikowej, która będzie wypełniona w/g algorytmu: jeśli indeks wiersza jest większy od indeksu kolumny wartością komórki jest indeks wiersza, w przeciwnym wypadku wartością komórki jest indeks kolumny. Funkcja jako wynik powinna zwracać uzupełnioną macierz, jeżeli nie jest to możliwe to powinna zwrócić None. Na koniec wyświetlić wynikową macierz dla dowolnych argumentów $m$, $n$ z przedziału $\langle3,7\rangle$.

Wskazówka: Inicjalizacja pustej macierz wykonywana jest w pakiecie Numpy przy pomocy funkcji zeros, zaś macierzy składającej się z jedynek ones.
In [5]:

zero_matrix = np.zeros((2, 2))
ones_matrix = np.ones((3,1))

print('zero_matrix: \n{}'.format(zero_matrix))
print('ones_matrix: \n{}'.format(ones_matrix))

zero_matrix: 
[[0. 0.]
 [0. 0.]]
ones_matrix: 
[[1.]
 [1.]
 [1.]]

Zadanie 7.

Biblioteka Numpy posiada własne metody, pozwalające na szybsze i wygotniejsze wykonywanie operacji na wektorach i macierzach. Kolejne zadania mają na celu przećwiczenie tych metod. Zamiast samemu implementować mnożenie macierzy, należy skorzystać właśnie z wbudowanych funkcji Numpy. Najbardzie podstawowe z nich to np.multiply, np.dot oraz np.matmul. Przed wykonaniem zadania należy zapoznać się z ich dokumentacją, aby stosować poprawną funkcję do danego typu mnożenia. Dodatkowo ciekawą i użyteczną funkcjonalnością Numpy, wykorzystywaną niekiedy przy dodawaniu macierzy jest broadcasting, proszę o zapoznaie się z opisem: [1] [2].

Zainicjalizować dwa wektory $v_1$ i $v_2$:

$v_1 = \begin{bmatrix}1\\3\\13\end{bmatrix} \quad v_2 = \begin{bmatrix}8\\5\\-2\end{bmatrix}$

Następnie wykonać operacje i wypisać ich wynik:

    $4*v_1$
    $-v_2 + \begin{bmatrix}2\\2\\2\end{bmatrix}$
    $v_1 \circ v_2$ (w sensie mnożenia macierzy, tzw. mnożenie macierzy w sensie Cauchy’ego)
    $v_1 * v_2$ (w sensie mnożenia Hadamarda (element-wise))

Wskazówki: Warto wiedzieć o np.dot i np.multiply. Zbadać jak zachowuje się przeciążony operator mnożenia $*$ oraz $@$ dla macierzy $ndarray$.

Zadanie 8. Zainicjalizować macierz $M_1$:

$M_1 = \begin{bmatrix}1&amp;-7&amp;3\\-12&amp;3&amp;4\\5&amp;13&amp;-3\end{bmatrix}$

Następnie wykonać operacje i wypisać ich wynik:

    $3M_1$
    $3M_1 + \begin{bmatrix}1&amp;1&amp;1\\1&amp;1&amp;1\\1&amp;1&amp;1\end{bmatrix}$
    $M_1^T$
    $M_1 \circ v_1$
    $v_2^T \circ M_1$

Materiały uzupełniające:

    Scipy Lecture Notes
    NumPy for Matlab users
    Python Tutorial - W3Schools
    NumPy
    Matplotlib
    Anaconda
    Learn Python for Data Science
    Learn Python
    Wujek Google i Ciocia Wikipedia

